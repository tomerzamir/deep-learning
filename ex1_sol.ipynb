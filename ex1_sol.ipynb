{
  "cells": [
    {
      "cell_type": "markdown",
      "source": [
        "## **Deep Learning - Ex-1**"
      ],
      "metadata": {
        "id": "81JfTwxrj7XX"
      }
    },
    {
      "cell_type": "markdown",
      "source": [
        "Tomer Zamir  \n",
        "ID: 316123181"
      ],
      "metadata": {
        "id": "PwRK3K7_kCZj"
      }
    },
    {
      "cell_type": "code",
      "execution_count": null,
      "metadata": {
        "id": "TTBSvHcSLBzc"
      },
      "outputs": [],
      "source": [
        "%load_ext tensorboard\n",
        "import datetime, os\n",
        "import tensorflow as tf\n",
        "import tensorflow_datasets as tfds\n",
        "from tensorflow import keras"
      ]
    },
    {
      "cell_type": "markdown",
      "metadata": {
        "id": "c3aH3vP_XLI8"
      },
      "source": [
        "### Load a dataset\n"
      ]
    },
    {
      "cell_type": "code",
      "execution_count": null,
      "metadata": {
        "id": "ZUMhCXhFXdHQ"
      },
      "outputs": [],
      "source": [
        "(ds_train, ds_test), ds_info = tfds.load(\n",
        "    'mnist_corrupted',\n",
        "    split=['train', 'test'],\n",
        "    shuffle_files=True,\n",
        "    as_supervised=True,\n",
        "    with_info=True, \n",
        ")\n",
        "\n",
        "the_shape = (28, 28, 1)"
      ]
    },
    {
      "cell_type": "markdown",
      "metadata": {
        "id": "rgwCFAcWXQTx"
      },
      "source": [
        "### Build a training pipeline\n"
      ]
    },
    {
      "cell_type": "code",
      "execution_count": null,
      "metadata": {
        "id": "haykx2K9XgiI"
      },
      "outputs": [],
      "source": [
        "def normalize_img(image, label):\n",
        "  \"\"\"Normalizes images: `uint8` -> `float32`.\"\"\"\n",
        "  return tf.cast(image, tf.float32) / 255., label\n",
        "\n",
        "ds_train = ds_train.map(normalize_img, num_parallel_calls=tf.data.AUTOTUNE)\n",
        "ds_train = ds_train.cache()\n",
        "ds_train = ds_train.shuffle(ds_info.splits['train'].num_examples)\n",
        "ds_train = ds_train.batch(128)\n",
        "ds_train = ds_train.prefetch(tf.data.AUTOTUNE)\n",
        "ds_train"
      ]
    },
    {
      "cell_type": "markdown",
      "metadata": {
        "id": "RbsMy4X1XVFv"
      },
      "source": [
        "### Build an evaluation pipeline\n"
      ]
    },
    {
      "cell_type": "code",
      "execution_count": null,
      "metadata": {
        "id": "A0KjuDf7XiqY"
      },
      "outputs": [],
      "source": [
        "ds_test = ds_test.map(normalize_img, num_parallel_calls=tf.data.AUTOTUNE)\n",
        "ds_test = ds_test.batch(128)\n",
        "ds_test = ds_test.cache()\n",
        "ds_test = ds_test.prefetch(tf.data.AUTOTUNE)"
      ]
    },
    {
      "cell_type": "markdown",
      "metadata": {
        "id": "erDm0Or0kS4Z"
      },
      "source": [
        "Initialization with he_normal\n",
        "\n",
        "Applying 7 layers each with 512 neurons.\n",
        "\n",
        "\n",
        "\n",
        "\n"
      ]
    },
    {
      "cell_type": "code",
      "execution_count": null,
      "metadata": {
        "id": "zIAHW7NbkXd2",
        "tags": []
      },
      "outputs": [],
      "source": [
        "layers = [\n",
        "  tf.keras.layers.Flatten(input_shape=(28,28)),\n",
        "  tf.keras.layers.Dense(512, kernel_initializer='he_normal', activation='relu'),\n",
        "  tf.keras.layers.Dense(512, kernel_initializer='he_normal', activation='relu'),\n",
        "  tf.keras.layers.Dense(512, kernel_initializer='he_normal', activation='relu'),\n",
        "  tf.keras.layers.Dense(512, kernel_initializer='he_normal', activation='relu'),\n",
        "  tf.keras.layers.Dense(512, kernel_initializer='he_normal', activation='relu'),\n",
        "  tf.keras.layers.Dense(512, kernel_initializer='he_normal', activation='relu'),\n",
        "  tf.keras.layers.Dense(512, kernel_initializer='he_normal', activation='relu'),\n",
        "  tf.keras.layers.Dense(10,  kernel_initializer='he_normal')\n",
        "]"
      ]
    },
    {
      "cell_type": "markdown",
      "metadata": {
        "id": "jv6F5eUBl7Gr"
      },
      "source": [
        "Default with initialization and dropout 0.4"
      ]
    },
    {
      "cell_type": "code",
      "execution_count": null,
      "metadata": {
        "id": "vD1Y1XKfl9o_",
        "tags": []
      },
      "outputs": [],
      "source": [
        "layers = [\n",
        "  tf.keras.layers.Flatten(input_shape=(28,28)),\n",
        "  tf.keras.layers.Dense(512, kernel_initializer='he_normal', activation='relu'),\n",
        "  tf.keras.layers.Dropout(0.4),\n",
        "  tf.keras.layers.Dense(512, kernel_initializer='he_normal', activation='relu'),\n",
        "  tf.keras.layers.Dropout(0.4),\n",
        "  tf.keras.layers.Dense(512, kernel_initializer='he_normal', activation='relu'),\n",
        "  tf.keras.layers.Dropout(0.4),\n",
        "  tf.keras.layers.Dense(512, kernel_initializer='he_normal', activation='relu'),\n",
        "  tf.keras.layers.Dropout(0.4),\n",
        "  tf.keras.layers.Dense(10, kernel_initializer='he_normal')\n",
        "]"
      ]
    },
    {
      "cell_type": "markdown",
      "metadata": {
        "id": "IOEgH-_ydTdv"
      },
      "source": [
        "initialization with he_normal and BN\n"
      ]
    },
    {
      "cell_type": "code",
      "execution_count": null,
      "metadata": {
        "id": "2UKDFjtCH32C"
      },
      "outputs": [],
      "source": [
        "layers = [\n",
        "  tf.keras.layers.Flatten(input_shape=(28,28)),\n",
        "  tf.keras.layers.Dense(784, kernel_initializer='he_normal', activation='relu'),\n",
        "  tf.keras.layers.BatchNormalization(),\n",
        "  tf.keras.layers.Dense(512, kernel_initializer='he_normal', activation='relu'),\n",
        "  tf.keras.layers.BatchNormalization(),\n",
        "  tf.keras.layers.Dense(512, kernel_initializer='he_normal', activation='relu'),\n",
        "  tf.keras.layers.BatchNormalization(),\n",
        "  tf.keras.layers.Dense(512, kernel_initializer='he_normal', activation='relu'),\n",
        "  tf.keras.layers.BatchNormalization(),\n",
        "  tf.keras.layers.Dense(10, kernel_initializer='he_normal')\n",
        "]\n"
      ]
    },
    {
      "cell_type": "markdown",
      "metadata": {
        "id": "2fcTaRnk6F6Q"
      },
      "source": [
        "Init randomly with std=0.01"
      ]
    },
    {
      "cell_type": "code",
      "execution_count": null,
      "metadata": {
        "id": "HRTNK8TJ6JMS",
        "tags": []
      },
      "outputs": [],
      "source": [
        "layers = [\n",
        "  tf.keras.layers.Flatten(input_shape=(28,28)),\n",
        "  tf.keras.layers.Dense(784, activation='relu', kernel_initializer=tf.keras.initializers.RandomNormal(mean=0.0, stddev=0.01)),\n",
        "  tf.keras.layers.Dense(512, activation='relu', kernel_initializer=tf.keras.initializers.RandomNormal(mean=0.0, stddev=0.01)),\n",
        "  tf.keras.layers.Dense(256, activation='relu', kernel_initializer=tf.keras.initializers.RandomNormal(mean=0.0, stddev=0.01)),\n",
        "  tf.keras.layers.Dense(512, activation='relu', kernel_initializer=tf.keras.initializers.RandomNormal(mean=0.0, stddev=0.01)),\n",
        "  tf.keras.layers.Dense(10, kernel_initializer=tf.keras.initializers.RandomNormal(mean=0.0, stddev=0.01))\n",
        "  ]"
      ]
    },
    {
      "cell_type": "markdown",
      "metadata": {
        "id": "F66_dA45dnnh"
      },
      "source": [
        "Dropout + STD 0.01"
      ]
    },
    {
      "cell_type": "code",
      "execution_count": null,
      "metadata": {
        "id": "G2VoOfvtdlTG"
      },
      "outputs": [],
      "source": [
        "layers = [\n",
        "  tf.keras.layers.Flatten(input_shape=(28,28)),\n",
        "  tf.keras.layers.Dense(784, activation='relu', kernel_initializer=tf.keras.initializers.RandomNormal(mean=0.0, stddev=0.01)),\n",
        "  tf.keras.layers.Dropout(0.4),\n",
        "  tf.keras.layers.Dense(512, activation='relu', kernel_initializer=tf.keras.initializers.RandomNormal(mean=0.0, stddev=0.01)),\n",
        "  tf.keras.layers.Dropout(0.4),\n",
        "  tf.keras.layers.Dense(256, activation='relu', kernel_initializer=tf.keras.initializers.RandomNormal(mean=0.0, stddev=0.01)),\n",
        "  tf.keras.layers.Dropout(0.4),\n",
        "  tf.keras.layers.Dense(10, kernel_initializer=tf.keras.initializers.RandomNormal(mean=0.0, stddev=0.01))\n",
        "  ]"
      ]
    },
    {
      "cell_type": "markdown",
      "metadata": {
        "id": "Eee9lQoRJxEu"
      },
      "source": [
        "**Chosen Model Layers:**<br>\n",
        "Batch Normalization and STD 0.01"
      ]
    },
    {
      "cell_type": "code",
      "execution_count": null,
      "metadata": {
        "id": "gOEGx1kxIxX_"
      },
      "outputs": [],
      "source": [
        "layers = [\n",
        "  tf.keras.layers.Flatten(input_shape=(28,28)),\n",
        "  tf.keras.layers.Dense(784, activation='relu', kernel_initializer=tf.keras.initializers.RandomNormal(mean=0.0, stddev=0.01)),\n",
        "  tf.keras.layers.BatchNormalization(),\n",
        "  tf.keras.layers.Dense(512, activation='relu', kernel_initializer=tf.keras.initializers.RandomNormal(mean=0.0, stddev=0.01)),\n",
        "  tf.keras.layers.BatchNormalization(),\n",
        "  tf.keras.layers.Dense(256, activation='relu', kernel_initializer=tf.keras.initializers.RandomNormal(mean=0.0, stddev=0.01)),\n",
        "  tf.keras.layers.BatchNormalization(),\n",
        "  tf.keras.layers.Dense(10, kernel_initializer=tf.keras.initializers.RandomNormal(mean=0.0, stddev=0.01))\n",
        "  ]"
      ]
    },
    {
      "cell_type": "markdown",
      "metadata": {
        "id": "QQr7tTnBqF1U"
      },
      "source": [
        "Compile the model"
      ]
    },
    {
      "cell_type": "code",
      "execution_count": null,
      "metadata": {
        "id": "ewM7-DdY5e-L"
      },
      "outputs": [],
      "source": [
        "\n",
        "model = tf.keras.models.Sequential(layers)\n",
        "\n",
        "\n",
        "model.compile(\n",
        "    optimizer=tf.keras.optimizers.Adam(0.001),\n",
        "    loss=tf.keras.losses.SparseCategoricalCrossentropy(from_logits=True),\n",
        "    metrics=[tf.keras.metrics.SparseCategoricalAccuracy()]\n",
        ")\n",
        "\n",
        "model.summary()"
      ]
    },
    {
      "cell_type": "markdown",
      "metadata": {
        "id": "W_ZGrjLYBg5U"
      },
      "source": [
        "Create Tensorboard "
      ]
    },
    {
      "cell_type": "code",
      "execution_count": null,
      "metadata": {
        "id": "jFqRTc2YBlO2"
      },
      "outputs": [],
      "source": [
        "%tensorboard --logdir logs\n",
        "from tensorboard import notebook\n",
        "notebook.list() # View open TensorBoard instances\n"
      ]
    },
    {
      "cell_type": "markdown",
      "metadata": {
        "id": "R9qdxH82Bsgv"
      },
      "source": [
        "Train the model"
      ]
    },
    {
      "cell_type": "code",
      "execution_count": null,
      "metadata": {
        "id": "AmPefGL9B0-r"
      },
      "outputs": [],
      "source": [
        "tensorboard_callback = tf.keras.callbacks.TensorBoard(os.path.join(\"logs\", datetime.datetime.now().strftime(\"%Y%m%d-%H%M%S\")), histogram_freq=1) \n",
        "model.fit(ds_train, \n",
        "          epochs=10, \n",
        "          validation_data=ds_test, \n",
        "          callbacks=[tensorboard_callback],\n",
        "          use_multiprocessing=True)\n"
      ]
    }
  ],
  "metadata": {
    "accelerator": "GPU",
    "colab": {
      "private_outputs": true,
      "provenance": []
    },
    "kernelspec": {
      "display_name": "Python 3 (ipykernel)",
      "language": "python",
      "name": "python3"
    },
    "language_info": {
      "codemirror_mode": {
        "name": "ipython",
        "version": 3
      },
      "file_extension": ".py",
      "mimetype": "text/x-python",
      "name": "python",
      "nbconvert_exporter": "python",
      "pygments_lexer": "ipython3",
      "version": "3.9.7"
    }
  },
  "nbformat": 4,
  "nbformat_minor": 0
}