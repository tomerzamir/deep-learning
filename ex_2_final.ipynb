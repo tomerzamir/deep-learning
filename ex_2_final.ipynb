{
  "cells": [
    {
      "cell_type": "markdown",
      "source": [
        "# **Deep Learning Ex-2**"
      ],
      "metadata": {
        "id": "4Y7BbuNW_KNe"
      }
    },
    {
      "cell_type": "markdown",
      "source": [
        "**Tomer Zamir**\n",
        "\n",
        "**ID: 316123181**"
      ],
      "metadata": {
        "id": "ar_JXUjX_Puy"
      }
    },
    {
      "cell_type": "code",
      "execution_count": 3,
      "metadata": {
        "id": "9mup8zPmq6GR"
      },
      "outputs": [],
      "source": [
        "import numpy as np \n",
        "import pandas as pd \n",
        "import matplotlib.pyplot as plt\n",
        "import seaborn as ssn\n",
        "import os\n",
        "\n",
        "#For data preparation and preprocessing\n",
        "import tensorflow as tf\n",
        "import tensorflow.keras\n",
        "from tensorflow.keras.preprocessing.image import ImageDataGenerator\n",
        "import tensorflow_datasets as tfds\n",
        "#For model creation and training\n",
        "from tensorflow.keras.models import Sequential\n",
        "from tensorflow.keras.optimizers import Adam\n",
        "from tensorflow.keras.callbacks import TensorBoard\n",
        "from tensorflow.keras.callbacks import EarlyStopping, ModelCheckpoint\n",
        "from keras.layers import Conv2D, BatchNormalization, Dropout, GlobalAveragePooling2D, Dense\n",
        "from keras.callbacks import ModelCheckpoint, EarlyStopping, LearningRateScheduler\n",
        "\n",
        "#For model evaluation\n",
        "from sklearn.metrics import confusion_matrix\n"
      ]
    },
    {
      "cell_type": "markdown",
      "source": [
        "download dataset from kaggle API"
      ],
      "metadata": {
        "id": "M_iPzq2DGzKt"
      }
    },
    {
      "cell_type": "code",
      "source": [
        "# upload kaggle.json file, download from kaggle->account->Create New API Token\n",
        "# alternetivly downloaded the dataset from the link below and skip this and the next 3 blocks.\n",
        "# https://www.kaggle.com/datasets/puneet6060/intel-image-classification\n",
        "from google.colab import files\n",
        "files.upload() "
      ],
      "metadata": {
        "colab": {
          "base_uri": "https://localhost:8080/",
          "height": 90
        },
        "id": "byoucBtdsb9u",
        "outputId": "68699d58-5e05-4663-8c62-7e57bfd25b81"
      },
      "execution_count": 4,
      "outputs": [
        {
          "output_type": "display_data",
          "data": {
            "text/plain": [
              "<IPython.core.display.HTML object>"
            ],
            "text/html": [
              "\n",
              "     <input type=\"file\" id=\"files-5b2fbd24-c74d-4f32-92a3-4307517c61e6\" name=\"files[]\" multiple disabled\n",
              "        style=\"border:none\" />\n",
              "     <output id=\"result-5b2fbd24-c74d-4f32-92a3-4307517c61e6\">\n",
              "      Upload widget is only available when the cell has been executed in the\n",
              "      current browser session. Please rerun this cell to enable.\n",
              "      </output>\n",
              "      <script>// Copyright 2017 Google LLC\n",
              "//\n",
              "// Licensed under the Apache License, Version 2.0 (the \"License\");\n",
              "// you may not use this file except in compliance with the License.\n",
              "// You may obtain a copy of the License at\n",
              "//\n",
              "//      http://www.apache.org/licenses/LICENSE-2.0\n",
              "//\n",
              "// Unless required by applicable law or agreed to in writing, software\n",
              "// distributed under the License is distributed on an \"AS IS\" BASIS,\n",
              "// WITHOUT WARRANTIES OR CONDITIONS OF ANY KIND, either express or implied.\n",
              "// See the License for the specific language governing permissions and\n",
              "// limitations under the License.\n",
              "\n",
              "/**\n",
              " * @fileoverview Helpers for google.colab Python module.\n",
              " */\n",
              "(function(scope) {\n",
              "function span(text, styleAttributes = {}) {\n",
              "  const element = document.createElement('span');\n",
              "  element.textContent = text;\n",
              "  for (const key of Object.keys(styleAttributes)) {\n",
              "    element.style[key] = styleAttributes[key];\n",
              "  }\n",
              "  return element;\n",
              "}\n",
              "\n",
              "// Max number of bytes which will be uploaded at a time.\n",
              "const MAX_PAYLOAD_SIZE = 100 * 1024;\n",
              "\n",
              "function _uploadFiles(inputId, outputId) {\n",
              "  const steps = uploadFilesStep(inputId, outputId);\n",
              "  const outputElement = document.getElementById(outputId);\n",
              "  // Cache steps on the outputElement to make it available for the next call\n",
              "  // to uploadFilesContinue from Python.\n",
              "  outputElement.steps = steps;\n",
              "\n",
              "  return _uploadFilesContinue(outputId);\n",
              "}\n",
              "\n",
              "// This is roughly an async generator (not supported in the browser yet),\n",
              "// where there are multiple asynchronous steps and the Python side is going\n",
              "// to poll for completion of each step.\n",
              "// This uses a Promise to block the python side on completion of each step,\n",
              "// then passes the result of the previous step as the input to the next step.\n",
              "function _uploadFilesContinue(outputId) {\n",
              "  const outputElement = document.getElementById(outputId);\n",
              "  const steps = outputElement.steps;\n",
              "\n",
              "  const next = steps.next(outputElement.lastPromiseValue);\n",
              "  return Promise.resolve(next.value.promise).then((value) => {\n",
              "    // Cache the last promise value to make it available to the next\n",
              "    // step of the generator.\n",
              "    outputElement.lastPromiseValue = value;\n",
              "    return next.value.response;\n",
              "  });\n",
              "}\n",
              "\n",
              "/**\n",
              " * Generator function which is called between each async step of the upload\n",
              " * process.\n",
              " * @param {string} inputId Element ID of the input file picker element.\n",
              " * @param {string} outputId Element ID of the output display.\n",
              " * @return {!Iterable<!Object>} Iterable of next steps.\n",
              " */\n",
              "function* uploadFilesStep(inputId, outputId) {\n",
              "  const inputElement = document.getElementById(inputId);\n",
              "  inputElement.disabled = false;\n",
              "\n",
              "  const outputElement = document.getElementById(outputId);\n",
              "  outputElement.innerHTML = '';\n",
              "\n",
              "  const pickedPromise = new Promise((resolve) => {\n",
              "    inputElement.addEventListener('change', (e) => {\n",
              "      resolve(e.target.files);\n",
              "    });\n",
              "  });\n",
              "\n",
              "  const cancel = document.createElement('button');\n",
              "  inputElement.parentElement.appendChild(cancel);\n",
              "  cancel.textContent = 'Cancel upload';\n",
              "  const cancelPromise = new Promise((resolve) => {\n",
              "    cancel.onclick = () => {\n",
              "      resolve(null);\n",
              "    };\n",
              "  });\n",
              "\n",
              "  // Wait for the user to pick the files.\n",
              "  const files = yield {\n",
              "    promise: Promise.race([pickedPromise, cancelPromise]),\n",
              "    response: {\n",
              "      action: 'starting',\n",
              "    }\n",
              "  };\n",
              "\n",
              "  cancel.remove();\n",
              "\n",
              "  // Disable the input element since further picks are not allowed.\n",
              "  inputElement.disabled = true;\n",
              "\n",
              "  if (!files) {\n",
              "    return {\n",
              "      response: {\n",
              "        action: 'complete',\n",
              "      }\n",
              "    };\n",
              "  }\n",
              "\n",
              "  for (const file of files) {\n",
              "    const li = document.createElement('li');\n",
              "    li.append(span(file.name, {fontWeight: 'bold'}));\n",
              "    li.append(span(\n",
              "        `(${file.type || 'n/a'}) - ${file.size} bytes, ` +\n",
              "        `last modified: ${\n",
              "            file.lastModifiedDate ? file.lastModifiedDate.toLocaleDateString() :\n",
              "                                    'n/a'} - `));\n",
              "    const percent = span('0% done');\n",
              "    li.appendChild(percent);\n",
              "\n",
              "    outputElement.appendChild(li);\n",
              "\n",
              "    const fileDataPromise = new Promise((resolve) => {\n",
              "      const reader = new FileReader();\n",
              "      reader.onload = (e) => {\n",
              "        resolve(e.target.result);\n",
              "      };\n",
              "      reader.readAsArrayBuffer(file);\n",
              "    });\n",
              "    // Wait for the data to be ready.\n",
              "    let fileData = yield {\n",
              "      promise: fileDataPromise,\n",
              "      response: {\n",
              "        action: 'continue',\n",
              "      }\n",
              "    };\n",
              "\n",
              "    // Use a chunked sending to avoid message size limits. See b/62115660.\n",
              "    let position = 0;\n",
              "    do {\n",
              "      const length = Math.min(fileData.byteLength - position, MAX_PAYLOAD_SIZE);\n",
              "      const chunk = new Uint8Array(fileData, position, length);\n",
              "      position += length;\n",
              "\n",
              "      const base64 = btoa(String.fromCharCode.apply(null, chunk));\n",
              "      yield {\n",
              "        response: {\n",
              "          action: 'append',\n",
              "          file: file.name,\n",
              "          data: base64,\n",
              "        },\n",
              "      };\n",
              "\n",
              "      let percentDone = fileData.byteLength === 0 ?\n",
              "          100 :\n",
              "          Math.round((position / fileData.byteLength) * 100);\n",
              "      percent.textContent = `${percentDone}% done`;\n",
              "\n",
              "    } while (position < fileData.byteLength);\n",
              "  }\n",
              "\n",
              "  // All done.\n",
              "  yield {\n",
              "    response: {\n",
              "      action: 'complete',\n",
              "    }\n",
              "  };\n",
              "}\n",
              "\n",
              "scope.google = scope.google || {};\n",
              "scope.google.colab = scope.google.colab || {};\n",
              "scope.google.colab._files = {\n",
              "  _uploadFiles,\n",
              "  _uploadFilesContinue,\n",
              "};\n",
              "})(self);\n",
              "</script> "
            ]
          },
          "metadata": {}
        },
        {
          "output_type": "stream",
          "name": "stdout",
          "text": [
            "Saving kaggle.json to kaggle.json\n"
          ]
        },
        {
          "output_type": "execute_result",
          "data": {
            "text/plain": [
              "{'kaggle.json': b'{\"username\":\"tomerzamir\",\"key\":\"c5923d600d5c0bc57c677d566b0c48e1\"}'}"
            ]
          },
          "metadata": {},
          "execution_count": 4
        }
      ]
    },
    {
      "cell_type": "code",
      "source": [
        "import json\n",
        "\n",
        "with open('/content/kaggle.json') as f:\n",
        "    kaggle_api_key = json.load(f)\n",
        "    \n",
        "kaggle_api_key.keys()\n"
      ],
      "metadata": {
        "colab": {
          "base_uri": "https://localhost:8080/"
        },
        "id": "UomAXbiSsvK5",
        "outputId": "e2b53bcf-2a91-4783-d98e-f4609f96b65c"
      },
      "execution_count": 5,
      "outputs": [
        {
          "output_type": "execute_result",
          "data": {
            "text/plain": [
              "dict_keys(['username', 'key'])"
            ]
          },
          "metadata": {},
          "execution_count": 5
        }
      ]
    },
    {
      "cell_type": "code",
      "source": [
        "!mkdir -p ~/.kaggle\n",
        "!cp kaggle.json ~/.kaggle/\n",
        "!chmod 600 ~/.kaggle/kaggle.json\n"
      ],
      "metadata": {
        "id": "6ysYwfLSt0Kz"
      },
      "execution_count": 6,
      "outputs": []
    },
    {
      "cell_type": "code",
      "source": [
        "import kaggle\n",
        "kaggle.api.authenticate()\n",
        "kaggle.api.dataset_download_files('puneet6060/intel-image-classification', path='.', unzip=True)"
      ],
      "metadata": {
        "id": "WxS2ymeAs-S7"
      },
      "execution_count": 7,
      "outputs": []
    },
    {
      "cell_type": "markdown",
      "source": [
        "data pre-processing"
      ],
      "metadata": {
        "id": "7CSwV7g0G5GC"
      }
    },
    {
      "cell_type": "code",
      "execution_count": 8,
      "metadata": {
        "id": "5JX4zXvvq6GS"
      },
      "outputs": [],
      "source": [
        "TRAIN_DIR = './seg_train/seg_train'\n",
        "TEST_DIR = './seg_test/seg_test'\n",
        "#seg_pred = './seg_pred'"
      ]
    },
    {
      "cell_type": "code",
      "execution_count": 9,
      "metadata": {
        "id": "94uXhiU1q6GS"
      },
      "outputs": [],
      "source": [
        "datagen = ImageDataGenerator(\n",
        "    rescale=1.0 / 255,\n",
        "    rotation_range=5,\n",
        "    zoom_range=(0.95, 0.95),\n",
        "    horizontal_flip=False,\n",
        "    vertical_flip=False,\n",
        "    data_format=\"channels_last\",\n",
        "    validation_split=0.0,\n",
        "    dtype=tf.float32,\n",
        ")"
      ]
    },
    {
      "cell_type": "code",
      "execution_count": 10,
      "metadata": {
        "id": "xPaq867Zq6GT"
      },
      "outputs": [],
      "source": [
        "BATCH_SIZE = 32\n",
        "IMG_SIZE = 150"
      ]
    },
    {
      "cell_type": "code",
      "execution_count": 11,
      "metadata": {
        "colab": {
          "base_uri": "https://localhost:8080/"
        },
        "id": "_lS-U3S8q6GT",
        "outputId": "0405da7d-bbdf-4f49-ede1-98df8e5fc3d7"
      },
      "outputs": [
        {
          "output_type": "stream",
          "name": "stdout",
          "text": [
            "Found 14034 files belonging to 6 classes.\n",
            "Using 11228 files for training.\n",
            "Found 3000 files belonging to 6 classes.\n",
            "Using 600 files for validation.\n"
          ]
        }
      ],
      "source": [
        "from tensorflow.keras.preprocessing.image import ImageDataGenerator\n",
        "rescaled = ImageDataGenerator(rescale=1.0 / 255,\n",
        "    rotation_range=5,\n",
        "    zoom_range=(0.95, 0.95),\n",
        "    horizontal_flip=False,\n",
        "    vertical_flip=False,\n",
        "    data_format=\"channels_last\",\n",
        "    validation_split=0.0,\n",
        "    dtype=tf.float32)\n",
        "train_fed = tf.keras.utils.image_dataset_from_directory(TRAIN_DIR, image_size = (IMG_SIZE,IMG_SIZE), batch_size=32, label_mode = 'categorical', subset='training', validation_split = 0.2, seed=42)\n",
        "test_fed = tf.keras.utils.image_dataset_from_directory(TEST_DIR, image_size = (IMG_SIZE,IMG_SIZE), batch_size=32, label_mode = 'categorical', subset='validation', validation_split = 0.2, seed=42)"
      ]
    },
    {
      "cell_type": "markdown",
      "source": [
        "model"
      ],
      "metadata": {
        "id": "mnu809dVHBNN"
      }
    },
    {
      "cell_type": "code",
      "execution_count": 12,
      "metadata": {
        "id": "qdwvb4Uuq6GU"
      },
      "outputs": [],
      "source": [
        "def define_model(k):\n",
        "    filter_size=3\n",
        "    stride=1\n",
        "    rf=3\n",
        "    model = Sequential()\n",
        "    model.add(Conv2D(64, (3, 3), padding='same', activation='relu', input_shape=(IMG_SIZE,IMG_SIZE, 3),\n",
        "                     strides=(stride,stride)))\n",
        "    while rf<k:\n",
        "        rf+=(filter_size-1)*stride\n",
        "        model.add(Conv2D(64, (3, 3), padding='same', activation='relu', input_shape=(IMG_SIZE,IMG_SIZE, 3),\n",
        "                         strides=(stride,stride)))\n",
        "        model.add(BatchNormalization())\n",
        "        model.add(Dropout(0.2))\n",
        "    model.add(GlobalAveragePooling2D())\n",
        "    #model.add(Dense(256, activation='relu'))\n",
        "    model.add(Dense(128, activation='relu'))\n",
        "    model.add(Dense(6, activation='softmax'))\n",
        "    print('Receptive Field =',rf)\n",
        "    return model\n"
      ]
    },
    {
      "cell_type": "code",
      "execution_count": 17,
      "metadata": {
        "colab": {
          "base_uri": "https://localhost:8080/"
        },
        "id": "oCkgbdQBq6GU",
        "outputId": "59c2c8e7-4dc9-4c9d-b418-8c4e4fa63942"
      },
      "outputs": [
        {
          "output_type": "stream",
          "name": "stdout",
          "text": [
            "Receptive Field = 31\n"
          ]
        }
      ],
      "source": [
        "model = define_model(k=30) # k must be at least 30 in order to get over 500,000 parameters\n",
        "# in order to speed up the model - lower k"
      ]
    },
    {
      "cell_type": "code",
      "execution_count": 18,
      "metadata": {
        "id": "KaHH6ZpLq6GV"
      },
      "outputs": [],
      "source": [
        "model.compile(\n",
        "  optimizer='adam',\n",
        "  loss='categorical_crossentropy',\n",
        "  metrics=['accuracy'])"
      ]
    },
    {
      "cell_type": "code",
      "execution_count": 19,
      "metadata": {
        "colab": {
          "base_uri": "https://localhost:8080/"
        },
        "id": "29qygxYiq6GV",
        "outputId": "a7c1111c-a2e6-4dbc-fad9-86f61966d130"
      },
      "outputs": [
        {
          "output_type": "stream",
          "name": "stdout",
          "text": [
            "Model: \"sequential_1\"\n",
            "_________________________________________________________________\n",
            " Layer (type)                Output Shape              Param #   \n",
            "=================================================================\n",
            " conv2d_21 (Conv2D)          (None, 150, 150, 64)      1792      \n",
            "                                                                 \n",
            " conv2d_22 (Conv2D)          (None, 150, 150, 64)      36928     \n",
            "                                                                 \n",
            " batch_normalization_20 (Bat  (None, 150, 150, 64)     256       \n",
            " chNormalization)                                                \n",
            "                                                                 \n",
            " dropout_20 (Dropout)        (None, 150, 150, 64)      0         \n",
            "                                                                 \n",
            " conv2d_23 (Conv2D)          (None, 150, 150, 64)      36928     \n",
            "                                                                 \n",
            " batch_normalization_21 (Bat  (None, 150, 150, 64)     256       \n",
            " chNormalization)                                                \n",
            "                                                                 \n",
            " dropout_21 (Dropout)        (None, 150, 150, 64)      0         \n",
            "                                                                 \n",
            " conv2d_24 (Conv2D)          (None, 150, 150, 64)      36928     \n",
            "                                                                 \n",
            " batch_normalization_22 (Bat  (None, 150, 150, 64)     256       \n",
            " chNormalization)                                                \n",
            "                                                                 \n",
            " dropout_22 (Dropout)        (None, 150, 150, 64)      0         \n",
            "                                                                 \n",
            " conv2d_25 (Conv2D)          (None, 150, 150, 64)      36928     \n",
            "                                                                 \n",
            " batch_normalization_23 (Bat  (None, 150, 150, 64)     256       \n",
            " chNormalization)                                                \n",
            "                                                                 \n",
            " dropout_23 (Dropout)        (None, 150, 150, 64)      0         \n",
            "                                                                 \n",
            " conv2d_26 (Conv2D)          (None, 150, 150, 64)      36928     \n",
            "                                                                 \n",
            " batch_normalization_24 (Bat  (None, 150, 150, 64)     256       \n",
            " chNormalization)                                                \n",
            "                                                                 \n",
            " dropout_24 (Dropout)        (None, 150, 150, 64)      0         \n",
            "                                                                 \n",
            " conv2d_27 (Conv2D)          (None, 150, 150, 64)      36928     \n",
            "                                                                 \n",
            " batch_normalization_25 (Bat  (None, 150, 150, 64)     256       \n",
            " chNormalization)                                                \n",
            "                                                                 \n",
            " dropout_25 (Dropout)        (None, 150, 150, 64)      0         \n",
            "                                                                 \n",
            " conv2d_28 (Conv2D)          (None, 150, 150, 64)      36928     \n",
            "                                                                 \n",
            " batch_normalization_26 (Bat  (None, 150, 150, 64)     256       \n",
            " chNormalization)                                                \n",
            "                                                                 \n",
            " dropout_26 (Dropout)        (None, 150, 150, 64)      0         \n",
            "                                                                 \n",
            " conv2d_29 (Conv2D)          (None, 150, 150, 64)      36928     \n",
            "                                                                 \n",
            " batch_normalization_27 (Bat  (None, 150, 150, 64)     256       \n",
            " chNormalization)                                                \n",
            "                                                                 \n",
            " dropout_27 (Dropout)        (None, 150, 150, 64)      0         \n",
            "                                                                 \n",
            " conv2d_30 (Conv2D)          (None, 150, 150, 64)      36928     \n",
            "                                                                 \n",
            " batch_normalization_28 (Bat  (None, 150, 150, 64)     256       \n",
            " chNormalization)                                                \n",
            "                                                                 \n",
            " dropout_28 (Dropout)        (None, 150, 150, 64)      0         \n",
            "                                                                 \n",
            " conv2d_31 (Conv2D)          (None, 150, 150, 64)      36928     \n",
            "                                                                 \n",
            " batch_normalization_29 (Bat  (None, 150, 150, 64)     256       \n",
            " chNormalization)                                                \n",
            "                                                                 \n",
            " dropout_29 (Dropout)        (None, 150, 150, 64)      0         \n",
            "                                                                 \n",
            " conv2d_32 (Conv2D)          (None, 150, 150, 64)      36928     \n",
            "                                                                 \n",
            " batch_normalization_30 (Bat  (None, 150, 150, 64)     256       \n",
            " chNormalization)                                                \n",
            "                                                                 \n",
            " dropout_30 (Dropout)        (None, 150, 150, 64)      0         \n",
            "                                                                 \n",
            " conv2d_33 (Conv2D)          (None, 150, 150, 64)      36928     \n",
            "                                                                 \n",
            " batch_normalization_31 (Bat  (None, 150, 150, 64)     256       \n",
            " chNormalization)                                                \n",
            "                                                                 \n",
            " dropout_31 (Dropout)        (None, 150, 150, 64)      0         \n",
            "                                                                 \n",
            " conv2d_34 (Conv2D)          (None, 150, 150, 64)      36928     \n",
            "                                                                 \n",
            " batch_normalization_32 (Bat  (None, 150, 150, 64)     256       \n",
            " chNormalization)                                                \n",
            "                                                                 \n",
            " dropout_32 (Dropout)        (None, 150, 150, 64)      0         \n",
            "                                                                 \n",
            " conv2d_35 (Conv2D)          (None, 150, 150, 64)      36928     \n",
            "                                                                 \n",
            " batch_normalization_33 (Bat  (None, 150, 150, 64)     256       \n",
            " chNormalization)                                                \n",
            "                                                                 \n",
            " dropout_33 (Dropout)        (None, 150, 150, 64)      0         \n",
            "                                                                 \n",
            " global_average_pooling2d_1   (None, 64)               0         \n",
            " (GlobalAveragePooling2D)                                        \n",
            "                                                                 \n",
            " dense_2 (Dense)             (None, 128)               8320      \n",
            "                                                                 \n",
            " dense_3 (Dense)             (None, 6)                 774       \n",
            "                                                                 \n",
            "=================================================================\n",
            "Total params: 531,462\n",
            "Trainable params: 529,670\n",
            "Non-trainable params: 1,792\n",
            "_________________________________________________________________\n"
          ]
        }
      ],
      "source": [
        "model.summary()"
      ]
    },
    {
      "cell_type": "code",
      "execution_count": 21,
      "metadata": {
        "colab": {
          "base_uri": "https://localhost:8080/"
        },
        "id": "3SEcDD3Yq6GV",
        "outputId": "f5b1821f-a104-4991-f9fb-b4e760f7e29f"
      },
      "outputs": [
        {
          "output_type": "stream",
          "name": "stdout",
          "text": [
            "Epoch 1/10\n",
            "351/351 [==============================] - 328s 934ms/step - loss: 0.7188 - accuracy: 0.7178 - val_loss: 1.5581 - val_accuracy: 0.5133\n",
            "Epoch 2/10\n",
            "351/351 [==============================] - 328s 933ms/step - loss: 0.6602 - accuracy: 0.7485 - val_loss: 0.9178 - val_accuracy: 0.6750\n",
            "Epoch 3/10\n",
            "351/351 [==============================] - 327s 932ms/step - loss: 0.6287 - accuracy: 0.7568 - val_loss: 0.7456 - val_accuracy: 0.7150\n",
            "Epoch 4/10\n",
            "351/351 [==============================] - 325s 925ms/step - loss: 0.6030 - accuracy: 0.7707 - val_loss: 1.3164 - val_accuracy: 0.5783\n",
            "Epoch 5/10\n",
            "351/351 [==============================] - 325s 926ms/step - loss: 0.5660 - accuracy: 0.7875 - val_loss: 0.7296 - val_accuracy: 0.7383\n",
            "Epoch 6/10\n",
            "351/351 [==============================] - 325s 926ms/step - loss: 0.5442 - accuracy: 0.7951 - val_loss: 0.6665 - val_accuracy: 0.7417\n",
            "Epoch 7/10\n",
            "351/351 [==============================] - 327s 932ms/step - loss: 0.5165 - accuracy: 0.8065 - val_loss: 0.8047 - val_accuracy: 0.7067\n",
            "Epoch 8/10\n",
            "351/351 [==============================] - 325s 926ms/step - loss: 0.5008 - accuracy: 0.8131 - val_loss: 0.7282 - val_accuracy: 0.7417\n",
            "Epoch 9/10\n",
            "351/351 [==============================] - 327s 932ms/step - loss: 0.4800 - accuracy: 0.8206 - val_loss: 0.8676 - val_accuracy: 0.7033\n"
          ]
        }
      ],
      "source": [
        "history = model.fit(train_fed, shuffle=True, epochs=10, validation_data=test_fed, verbose=1,\n",
        "                    callbacks=tf.keras.callbacks.EarlyStopping(monitor='val_accuracy' ,patience=2,restore_best_weights=True))"
      ]
    },
    {
      "cell_type": "markdown",
      "source": [
        "evaluation"
      ],
      "metadata": {
        "id": "y8G7B1GNHDQb"
      }
    },
    {
      "cell_type": "code",
      "execution_count": 22,
      "metadata": {
        "colab": {
          "base_uri": "https://localhost:8080/"
        },
        "id": "MS6qRAKBq6GV",
        "outputId": "0c6bc7d6-5704-423b-9780-7f4da4ad02d1"
      },
      "outputs": [
        {
          "output_type": "stream",
          "name": "stdout",
          "text": [
            "19/19 [==============================] - 4s 207ms/step - loss: 0.6665 - accuracy: 0.7417\n",
            "Test Accuracy of model: 0.7416666746139526\n"
          ]
        }
      ],
      "source": [
        "eva1 = model.evaluate(test_fed)\n",
        "\n",
        "print('Test Accuracy of model: {}'.format(eva1[1]))"
      ]
    },
    {
      "cell_type": "code",
      "source": [
        "# Plot the chart for accuracy and loss on both training and validation\n",
        "acc = history.history['accuracy']\n",
        "val_acc = history.history['val_accuracy']\n",
        "loss = history.history['loss']\n",
        "val_loss = history.history['val_loss']\n",
        "\n",
        "epochs = range(len(acc))\n",
        "\n",
        "plt.plot(epochs, acc, 'r', label='Training accuracy')\n",
        "plt.plot(epochs, val_acc, 'b', label='Validation accuracy')\n",
        "plt.title('Training and validation accuracy')\n",
        "plt.legend()\n",
        "plt.figure()\n",
        "\n",
        "plt.plot(epochs, loss, 'r', label='Training Loss')\n",
        "plt.plot(epochs, val_loss, 'b', label='Validation Loss')\n",
        "plt.title('Training and validation loss')\n",
        "plt.legend()\n",
        "\n",
        "plt.show()"
      ],
      "metadata": {
        "colab": {
          "base_uri": "https://localhost:8080/",
          "height": 545
        },
        "id": "OJ6wslsp3sz4",
        "outputId": "534398eb-d07a-400b-8df9-83faeba291b9"
      },
      "execution_count": 23,
      "outputs": [
        {
          "output_type": "display_data",
          "data": {
            "text/plain": [
              "<Figure size 432x288 with 1 Axes>"
            ],
            "image/png": "[encoded data removed]"
          },
          "metadata": {
            "needs_background": "light"
          }
        },
        {
          "output_type": "display_data",
          "data": {
            "text/plain": [
              "<Figure size 432x288 with 1 Axes>"
            ],
            "image/png": "[encoded data removed]"
          },
          "metadata": {
            "needs_background": "light"
          }
        }
      ]
    }
  ],
  "metadata": {
    "kernelspec": {
      "display_name": "Python 3",
      "language": "python",
      "name": "python3"
    },
    "language_info": {
      "codemirror_mode": {
        "name": "ipython",
        "version": 3
      },
      "file_extension": ".py",
      "mimetype": "text/x-python",
      "name": "python",
      "nbconvert_exporter": "python",
      "pygments_lexer": "ipython3",
      "version": "3.9.6"
    },
    "orig_nbformat": 4,
    "vscode": {
      "interpreter": {
        "hash": "4506fe570a6538beb6869ac47d4d2d17f3a19d2d7f0538e6472cca21b669a493"
      }
    },
    "colab": {
      "provenance": []
    },
    "accelerator": "GPU",
    "gpuClass": "standard"
  },
  "nbformat": 4,
  "nbformat_minor": 0
}